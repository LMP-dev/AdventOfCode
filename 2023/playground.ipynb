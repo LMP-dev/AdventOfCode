{
 "cells": [
  {
   "cell_type": "code",
   "execution_count": 16,
   "metadata": {},
   "outputs": [],
   "source": [
    "s = [list(\"###.###...\"),list(\"......#.##\"), list(\"......#.#.\")]"
   ]
  },
  {
   "cell_type": "code",
   "execution_count": 17,
   "metadata": {},
   "outputs": [
    {
     "name": "stdout",
     "output_type": "stream",
     "text": [
      "[3, 7]\n",
      "['#', '#', '#', '.', '.', '#', '#', '#', '.', '.', '.', '.']\n",
      "['.', '.', '.', '.', '.', '.', '.', '#', '.', '.', '#', '#']\n",
      "['.', '.', '.', '.', '.', '.', '.', '#', '.', '.', '#', '.']\n"
     ]
    }
   ],
   "source": [
    "indexes_to_exapnd = []\n",
    "for i, _ in enumerate(s[0]):\n",
    "    column = [row[i] for row in s]\n",
    "    if column.count(\".\") == len(column):\n",
    "        indexes_to_exapnd.append(i)\n",
    "\n",
    "print(indexes_to_exapnd)\n",
    "\n",
    "accumulated_index = 0\n",
    "for index in indexes_to_exapnd:\n",
    "    for line in s:\n",
    "        line.insert(index + accumulated_index,\".\")\n",
    "    accumulated_index += 1\n",
    "\n",
    "for  x in s:\n",
    "    print(x)"
   ]
  }
 ],
 "metadata": {
  "kernelspec": {
   "display_name": "Python 3",
   "language": "python",
   "name": "python3"
  },
  "language_info": {
   "codemirror_mode": {
    "name": "ipython",
    "version": 3
   },
   "file_extension": ".py",
   "mimetype": "text/x-python",
   "name": "python",
   "nbconvert_exporter": "python",
   "pygments_lexer": "ipython3",
   "version": "3.10.11"
  },
  "orig_nbformat": 4
 },
 "nbformat": 4,
 "nbformat_minor": 2
}
