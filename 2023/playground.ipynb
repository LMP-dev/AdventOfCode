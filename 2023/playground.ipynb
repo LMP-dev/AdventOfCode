{
 "cells": [
  {
   "cell_type": "code",
   "execution_count": 1,
   "metadata": {},
   "outputs": [],
   "source": [
    "from dataclasses import dataclass\n",
    "\n",
    "@dataclass\n",
    "class Lens:\n",
    "    label: str\n",
    "    focal_length: int\n",
    "\n",
    "    def __eq__(self, other):\n",
    "        if isinstance(other, Lens):\n",
    "            return self.label == other.label\n",
    "        elif isinstance(other, str):\n",
    "            return self.label == other\n",
    "        else:\n",
    "            raise Exception(\n",
    "                f\"Comparison for Lens class only available for Lens or str instances. Tryied with {type(other)}\"\n",
    "            )"
   ]
  },
  {
   "cell_type": "code",
   "execution_count": 13,
   "metadata": {},
   "outputs": [
    {
     "name": "stdout",
     "output_type": "stream",
     "text": [
      "2\n",
      "[Lens(label='a', focal_length=1), Lens(label='b', focal_length=1), Lens(label='c', focal_length=2), Lens(label='d', focal_length=1)]\n"
     ]
    }
   ],
   "source": [
    "l = [Lens(\"a\", 1), Lens(\"b\",1), Lens(\"c\", 1), Lens(\"d\", 1)]\n",
    "x= Lens(\"c\", 2)\n",
    "\n",
    "i = l.index(x)\n",
    "print(i)\n",
    "\n",
    "l.remove(x)\n",
    "l.insert(i,x)\n",
    "\n",
    "print(l)"
   ]
  }
 ],
 "metadata": {
  "kernelspec": {
   "display_name": "Python 3",
   "language": "python",
   "name": "python3"
  },
  "language_info": {
   "codemirror_mode": {
    "name": "ipython",
    "version": 3
   },
   "file_extension": ".py",
   "mimetype": "text/x-python",
   "name": "python",
   "nbconvert_exporter": "python",
   "pygments_lexer": "ipython3",
   "version": "3.10.11"
  },
  "orig_nbformat": 4
 },
 "nbformat": 4,
 "nbformat_minor": 2
}
