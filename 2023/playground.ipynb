{
 "cells": [
  {
   "cell_type": "code",
   "execution_count": 1,
   "metadata": {},
   "outputs": [],
   "source": [
    "x = 10"
   ]
  },
  {
   "cell_type": "code",
   "execution_count": 2,
   "metadata": {},
   "outputs": [
    {
     "name": "stdout",
     "output_type": "stream",
     "text": [
      "initial number: 10\n",
      "SUmmed 4 to number: 14\n",
      "Multiplied by 2 the number: 28\n",
      "Reminder of dividing by 10: 8\n"
     ]
    }
   ],
   "source": [
    "print(f\"initial number: {x}\")\n",
    "x += 4\n",
    "print(f\"Summed 4 to number: {x}\")\n",
    "x*=2\n",
    "print(f\"Multiplied by 2 the number: {x}\")\n",
    "x%=10\n",
    "print(f\"Reminder of dividing by 10: {x}\")\n"
   ]
  }
 ],
 "metadata": {
  "kernelspec": {
   "display_name": "Python 3",
   "language": "python",
   "name": "python3"
  },
  "language_info": {
   "codemirror_mode": {
    "name": "ipython",
    "version": 3
   },
   "file_extension": ".py",
   "mimetype": "text/x-python",
   "name": "python",
   "nbconvert_exporter": "python",
   "pygments_lexer": "ipython3",
   "version": "3.10.11"
  },
  "orig_nbformat": 4
 },
 "nbformat": 4,
 "nbformat_minor": 2
}
